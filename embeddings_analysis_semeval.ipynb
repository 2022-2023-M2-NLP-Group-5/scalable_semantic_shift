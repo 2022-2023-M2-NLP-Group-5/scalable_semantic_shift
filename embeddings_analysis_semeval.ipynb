{
 "cells": [
  {
   "cell_type": "code",
   "execution_count": 4,
   "metadata": {},
   "outputs": [],
   "source": [
    "import pickle\n",
    "import collections\n",
    "import numpy as np\n",
    "import ot\n",
    "import scipy\n",
    "import numpy.core.numeric as _nx\n",
    "from scipy.spatial.distance import cdist\n",
    "import sklearn\n",
    "import csv, re, os\n",
    "from scipy.stats import spearmanr, pearsonr\n",
    "from sklearn.cluster import KMeans\n",
    "from sklearn.metrics.pairwise import cosine_similarity\n",
    "from collections import Counter\n",
    "from scipy.stats import entropy\n",
    "import sklearn.metrics\n",
    "from sklearn.metrics import  accuracy_score, brier_score_loss, hamming_loss, jaccard_similarity_score\n",
    "import random"
   ]
  },
  {
   "cell_type": "markdown",
   "metadata": {},
   "source": [
    "# Import embeddings and gold standard"
   ]
  },
  {
   "cell_type": "code",
   "execution_count": 2,
   "metadata": {},
   "outputs": [],
   "source": [
    "emb_path = '/people/montariol/data/scalable_semantic_change/embeddings/'\n",
    "data_path = '/people/montariol/data/scalable_semantic_change/'\n",
    "code_path = '/people/montariol/code/dynamic_word_embeddings/Code/Modeling/BERT_embeddings/scalable_extraction/scalable_semantic_shift/'\n",
    "gold_standard_dir = '/people/montariol/data/Evaluation/semeval2020_ulscd_posteval/test_data_truth/task2/'"
   ]
  },
  {
   "cell_type": "code",
   "execution_count": 20,
   "metadata": {},
   "outputs": [],
   "source": [
    "langs = ['english', 'german', 'swedish', 'latin']"
   ]
  },
  {
   "cell_type": "code",
   "execution_count": 26,
   "metadata": {},
   "outputs": [],
   "source": [
    "gold_dict=collections.defaultdict(dict)\n",
    "for p in os.listdir(gold_standard_dir):\n",
    "    with open(os.path.join(gold_standard_dir,p), 'r', encoding='utf8') as f:\n",
    "        for line in f:\n",
    "            word, score = line.split('\\t')\n",
    "            word = word.strip()\n",
    "            score = float(score.strip())\n",
    "            gold_dict[p[:-4]][word] = score\n"
   ]
  },
  {
   "cell_type": "code",
   "execution_count": 27,
   "metadata": {},
   "outputs": [
    {
     "data": {
      "text/plain": [
       "dict_keys(['english', 'german', 'latin', 'swedish'])"
      ]
     },
     "execution_count": 27,
     "metadata": {},
     "output_type": "execute_result"
    }
   ],
   "source": [
    "gold_dict.keys()"
   ]
  },
  {
   "cell_type": "code",
   "execution_count": 46,
   "metadata": {},
   "outputs": [],
   "source": [
    "emb_dict = {}\n",
    "for lang in langs:\n",
    "    p = emb_path + lang + '_5_epochs_scalable.pickle'\n",
    "    emb_scalable, count2sent_scalable = pickle.load(open(p, 'rb'))\n",
    "    emb_dict[lang] = process_scalable_embeddings(emb_scalable)\n"
   ]
  },
  {
   "cell_type": "code",
   "execution_count": 45,
   "metadata": {},
   "outputs": [],
   "source": [
    "\n",
    "def process_scalable_embeddings(emb_scalable):\n",
    "    # use the counts to recreate the full scalable embeddings dictionary\n",
    "    corpus_slices = ['1', '2']\n",
    "    targets = list(emb_scalable.keys())\n",
    "    emb_scalable_processed = collections.defaultdict(lambda:collections.defaultdict(list))\n",
    "    emb_scalable_counts = collections.defaultdict(lambda:collections.defaultdict(list))\n",
    "    for i, word in enumerate(targets):\n",
    "        emb = emb_scalable[word]\n",
    "        for cs in corpus_slices:\n",
    "            cs_embeddings = []        \n",
    "            for idx in range(len(emb[cs])):\n",
    "                #get summed embedding and its count, divide embedding by count\n",
    "                try:\n",
    "                    e, count_emb = emb[cs][idx]\n",
    "                    e = e/count_emb\n",
    "                    emb_scalable_counts[word][cs].append(count_emb)\n",
    "                except:\n",
    "                    e = emb[cs][idx]\n",
    "                emb_scalable_processed[word][cs].append(e)\n",
    "    return emb_scalable_processed, emb_scalable_counts\n",
    "\n"
   ]
  },
  {
   "cell_type": "markdown",
   "metadata": {},
   "source": [
    "# Experiment with averaging embeddings inside clusters"
   ]
  },
  {
   "cell_type": "code",
   "execution_count": 75,
   "metadata": {},
   "outputs": [],
   "source": [
    "def compute_jsd(p, q):\n",
    "    p = np.asarray(p)\n",
    "    q = np.asarray(q)\n",
    "    p /= p.sum()\n",
    "    q /= q.sum()\n",
    "    m = (p + q) / 2\n",
    "    return (entropy(p, m) + entropy(q, m)) / 2\n",
    "\n",
    "def cluster_drift(word, emb_dict_lang, emb_counts, n_clusters):\n",
    "    emb1 = np.array(emb_dict_lang[word]['1'])\n",
    "    emb2 = np.array(emb_dict_lang[word]['2'])\n",
    "    counts200_1 = np.array(emb_counts[word]['1'])\n",
    "    counts200_1_norm =  np.array(counts200_1) / np.array(counts200_1).sum()\n",
    "    counts200_2 = np.array(emb_counts[word]['2'])\n",
    "    counts200_2_norm =  np.array(counts200_2) / np.array(counts200_2).sum()\n",
    "    \n",
    "    # average pairwise distance:\n",
    "    apd_cos = np.mean(cdist(emb1, emb2, metric='cosine'))\n",
    "    apd_canb = np.mean(cdist(emb1, emb2, metric='canberra'))\n",
    "    \n",
    "    embeddings_concat = np.concatenate((emb1, emb2), axis=0)\n",
    "    clustering = KMeans(n_clusters=n_clusters, n_init=100).fit(embeddings_concat)\n",
    "    cluster_labels = clustering.labels_\n",
    "    labels_list = list(set(cluster_labels))\n",
    "    # construct count vectors from the cluster labels\n",
    "    counts1 = Counter(list(cluster_labels[:emb1.shape[0]]))\n",
    "    counts2 = Counter(list(cluster_labels[emb1.shape[0]:]))\n",
    "    t1 = [counts1[i] for i in labels_list]\n",
    "    t2 = [counts2[i] for i in labels_list]\n",
    "    # compute JS divergence between count vectors by turning them into distributions\n",
    "    t1_dist = np.array(t1) / np.array(t1).sum()\n",
    "    t2_dist = np.array(t2) / np.array(t2).sum()\n",
    "    jsd = compute_jsd(t1_dist, t2_dist)\n",
    "    # compute distance between avg embeddings\n",
    "    cos_avg = 1 - cosine_similarity(np.mean(emb2, 0).reshape(1, -1), np.mean(emb1, 0).reshape(1, -1))\n",
    "    # do averaging by cluster and compute wasserstein distance\n",
    "    emb1_means = np.array([np.mean(emb1[cluster_labels[:emb1.shape[0]] == clust], 0) for clust in labels_list])\n",
    "    emb2_means = np.array([np.mean(emb2[cluster_labels[emb1.shape[0]:] == clust], 0) for clust in labels_list])\n",
    "    M = np.nan_to_num(np.array([cdist(emb1_means, emb2_means, metric = 'cosine')])[0], nan = 1)\n",
    "    #M /= M.max()\n",
    "    #M is the metric cost matrix defining the cost to move mass from bin a_i to bin b_j\n",
    "    # a and b are histograms on the simplex (positive, sum to 1) that represent the weights \n",
    "    #of each samples in the source an target distributions.\n",
    "    # Thus M is the distance between each pair of elements in emb1_means and emb2_means\n",
    "    # and a and b are the weights of each cluster in periods 1 and 2\n",
    "    wass = ot.emd2(t1_dist, t2_dist, M)\n",
    "    sinkhorn10 = ot.sinkhorn2(t1_dist, t2_dist, M, reg=10, method='sinkhorn')\n",
    "    sinkhorn_1 = ot.sinkhorn2(t1_dist, t2_dist, M, reg=0.1, method='sinkhorn')\n",
    "\n",
    "    # do 2 clusterings:\n",
    "    labels1, centroids1, t1_dist = cluster_emb(emb1, n_clusters)\n",
    "    labels2, centroids2, t2_dist = cluster_emb(emb2, n_clusters)\n",
    "    emb1_means = np.array([np.mean(emb1[labels1 == clust], 0) for clust in list(set(labels1))])\n",
    "    emb2_means = np.array([np.mean(emb2[labels2 == clust], 0) for clust in list(set(labels2))])\n",
    "    M = np.nan_to_num(np.array([cdist(emb1_means, emb2_means, metric = 'cosine')])[0], nan = 1)\n",
    "    # Some elements of the distance matrix are nan because one of the clusers is empty for a time slice.\n",
    "    # replace them with 1\n",
    "    # M /= M.max()\n",
    "    indep_wass = ot.emd2(t1_dist, t2_dist, M)\n",
    "    #indep_bregman = ot.bregman.empirical_sinkhorn_divergence(emb1_means, emb2_means, t1_dist, t2_dist)\n",
    "    #indep_bregman2 = ot.bregman.empirical_sinkhorn2(emb1_means, emb2_means, t1_dist, t2_dist)\n",
    "    indep_sinkhorn10 = ot.sinkhorn2(t1_dist, t2_dist, M, reg=10, method='sinkhorn')\n",
    "    indep_sinkhorn_1 = ot.sinkhorn2(t1_dist, t2_dist, M, reg=0.1, method='sinkhorn')\n",
    "    \n",
    "    # with weighted average inside clusters:\n",
    "    emb1_means = np.array([np.average(emb1[labels1 == clust], 0, counts200_1_norm[labels1 == clust]) for clust in list(set(labels1))])\n",
    "    emb2_means = np.array([np.average(emb2[labels2 == clust], 0, counts200_2_norm[labels2 == clust]) for clust in list(set(labels2))])\n",
    "    M = np.nan_to_num(np.array([cdist(emb1_means, emb2_means, metric = 'cosine')])[0], nan = 1)\n",
    "    indep_wass_weighted = ot.emd2(t1_dist, t2_dist, M)\n",
    "    indep_sinkhorn10_weighted = ot.sinkhorn2(t1_dist, t2_dist, M, reg=10, method='sinkhorn')\n",
    "    indep_sinkhorn_1_weighted = ot.sinkhorn2(t1_dist, t2_dist, M, reg=0.1, method='sinkhorn')\n",
    "    \n",
    "    # with centroids it's the same as average for kmeans\n",
    "    # M = np.nan_to_num(np.array([cdist(centroids1, centroids2, metric = 'cosine')])[0], nan = 1)\n",
    "    # indep_wass_centroids = ot.emd2(t1_dist, t2_dist, M)\n",
    "    # indep_sinkhorn_centroids = ot.sinkhorn2(t1_dist, t2_dist, M, reg= 1e-1, method='sinkhorn')\n",
    "    \n",
    "    # without clustering:\n",
    "    M = np.nan_to_num(np.array([cdist(emb1, emb2, metric = 'cosine')])[0], nan = 1)\n",
    "    #M /= M.max()\n",
    "    full_wass = ot.emd2(counts200_1_norm, counts200_2_norm, M)\n",
    "    full_sinkhorn10 = ot.sinkhorn2(counts200_1_norm, counts200_2_norm, M, reg=10, method='sinkhorn')\n",
    "    full_sinkhorn_1 = ot.sinkhorn2(counts200_1_norm, counts200_2_norm, M, reg=0.1, method='sinkhorn')\n",
    "    \n",
    "    return apd_cos, apd_canb, jsd, cos_avg.flatten().item(), wass, sinkhorn10, sinkhorn_1, indep_wass, indep_sinkhorn10, indep_sinkhorn_1, indep_wass_weighted, indep_sinkhorn10_weighted, indep_sinkhorn_1_weighted, full_wass, full_sinkhorn10, full_sinkhorn_1\n",
    "\n",
    "def cluster_emb(embeddings, n_clusters):\n",
    "    clustering = KMeans(n_clusters=n_clusters, n_init=100).fit(embeddings)\n",
    "    cluster_labels = clustering.labels_\n",
    "    centroids = clustering.cluster_centers_\n",
    "    labels_list = list(set(cluster_labels))\n",
    "    # construct count vectors from the cluster labels\n",
    "    counts = Counter(list(cluster_labels))\n",
    "    t = [counts[i] for i in labels_list]\n",
    "    t_dist = np.array(t) / np.array(t).sum()\n",
    "    return cluster_labels, centroids, t_dist"
   ]
  },
  {
   "cell_type": "code",
   "execution_count": 78,
   "metadata": {
    "scrolled": true
   },
   "outputs": [
    {
     "name": "stdout",
     "output_type": "stream",
     "text": [
      "english 0 part_nn\n",
      "english 1 face_nn\n",
      "english 2 tip_vb\n",
      "english 3 tree_nn\n",
      "english 4 head_nn\n",
      "english 5 multitude_nn\n",
      "english 6 land_nn\n"
     ]
    },
    {
     "name": "stderr",
     "output_type": "stream",
     "text": [
      "/people/montariol/anaconda3/lib/python3.7/site-packages/numpy/core/fromnumeric.py:3373: RuntimeWarning: Mean of empty slice.\n",
      "  out=out, **kwargs)\n",
      "/people/montariol/anaconda3/lib/python3.7/site-packages/numpy/core/_methods.py:163: RuntimeWarning: invalid value encountered in true_divide\n",
      "  ret, rcount, out=ret, casting='unsafe', subok=False)\n",
      "/people/montariol/anaconda3/lib/python3.7/site-packages/ot/bregman.py:355: RuntimeWarning: divide by zero encountered in true_divide\n",
      "  Kp = (1 / a).reshape(-1, 1) * K\n"
     ]
    },
    {
     "name": "stdout",
     "output_type": "stream",
     "text": [
      "english 7 ball_nn\n",
      "english 8 pin_vb\n",
      "english 9 word_nn\n",
      "english 10 record_nn\n"
     ]
    },
    {
     "name": "stderr",
     "output_type": "stream",
     "text": [
      "/people/montariol/anaconda3/lib/python3.7/site-packages/numpy/core/fromnumeric.py:3373: RuntimeWarning: Mean of empty slice.\n",
      "  out=out, **kwargs)\n",
      "/people/montariol/anaconda3/lib/python3.7/site-packages/numpy/core/_methods.py:163: RuntimeWarning: invalid value encountered in true_divide\n",
      "  ret, rcount, out=ret, casting='unsafe', subok=False)\n",
      "/people/montariol/anaconda3/lib/python3.7/site-packages/ot/bregman.py:355: RuntimeWarning: divide by zero encountered in true_divide\n",
      "  Kp = (1 / a).reshape(-1, 1) * K\n"
     ]
    },
    {
     "name": "stdout",
     "output_type": "stream",
     "text": [
      "english 11 savage_nn\n",
      "english 12 lane_nn\n",
      "english 13 stab_nn\n"
     ]
    },
    {
     "name": "stderr",
     "output_type": "stream",
     "text": [
      "/people/montariol/anaconda3/lib/python3.7/site-packages/numpy/core/fromnumeric.py:3373: RuntimeWarning: Mean of empty slice.\n",
      "  out=out, **kwargs)\n",
      "/people/montariol/anaconda3/lib/python3.7/site-packages/numpy/core/_methods.py:163: RuntimeWarning: invalid value encountered in true_divide\n",
      "  ret, rcount, out=ret, casting='unsafe', subok=False)\n",
      "/people/montariol/anaconda3/lib/python3.7/site-packages/ot/bregman.py:355: RuntimeWarning: divide by zero encountered in true_divide\n",
      "  Kp = (1 / a).reshape(-1, 1) * K\n"
     ]
    },
    {
     "name": "stdout",
     "output_type": "stream",
     "text": [
      "english 14 attack_nn\n"
     ]
    },
    {
     "name": "stderr",
     "output_type": "stream",
     "text": [
      "/people/montariol/anaconda3/lib/python3.7/site-packages/numpy/core/fromnumeric.py:3373: RuntimeWarning: Mean of empty slice.\n",
      "  out=out, **kwargs)\n",
      "/people/montariol/anaconda3/lib/python3.7/site-packages/numpy/core/_methods.py:163: RuntimeWarning: invalid value encountered in true_divide\n",
      "  ret, rcount, out=ret, casting='unsafe', subok=False)\n",
      "/people/montariol/anaconda3/lib/python3.7/site-packages/ot/bregman.py:355: RuntimeWarning: divide by zero encountered in true_divide\n",
      "  Kp = (1 / a).reshape(-1, 1) * K\n"
     ]
    },
    {
     "name": "stdout",
     "output_type": "stream",
     "text": [
      "english 15 risk_nn\n",
      "english 16 player_nn\n"
     ]
    },
    {
     "name": "stderr",
     "output_type": "stream",
     "text": [
      "/people/montariol/anaconda3/lib/python3.7/site-packages/numpy/core/fromnumeric.py:3373: RuntimeWarning: Mean of empty slice.\n",
      "  out=out, **kwargs)\n",
      "/people/montariol/anaconda3/lib/python3.7/site-packages/numpy/core/_methods.py:163: RuntimeWarning: invalid value encountered in true_divide\n",
      "  ret, rcount, out=ret, casting='unsafe', subok=False)\n",
      "/people/montariol/anaconda3/lib/python3.7/site-packages/ot/bregman.py:355: RuntimeWarning: divide by zero encountered in true_divide\n",
      "  Kp = (1 / a).reshape(-1, 1) * K\n"
     ]
    },
    {
     "name": "stdout",
     "output_type": "stream",
     "text": [
      "Warning: numerical errors at iteration 0\n",
      "Warning: numerical errors at iteration 0\n",
      "english 17 contemplation_nn\n",
      "english 18 prop_nn\n"
     ]
    },
    {
     "name": "stderr",
     "output_type": "stream",
     "text": [
      "/people/montariol/anaconda3/lib/python3.7/site-packages/numpy/core/fromnumeric.py:3373: RuntimeWarning: Mean of empty slice.\n",
      "  out=out, **kwargs)\n",
      "/people/montariol/anaconda3/lib/python3.7/site-packages/numpy/core/_methods.py:163: RuntimeWarning: invalid value encountered in true_divide\n",
      "  ret, rcount, out=ret, casting='unsafe', subok=False)\n",
      "/people/montariol/anaconda3/lib/python3.7/site-packages/ot/bregman.py:355: RuntimeWarning: divide by zero encountered in true_divide\n",
      "  Kp = (1 / a).reshape(-1, 1) * K\n"
     ]
    },
    {
     "name": "stdout",
     "output_type": "stream",
     "text": [
      "english 19 edge_nn\n",
      "english 20 bit_nn\n",
      "english 21 rag_nn\n",
      "english 22 plane_nn\n"
     ]
    },
    {
     "name": "stderr",
     "output_type": "stream",
     "text": [
      "/people/montariol/anaconda3/lib/python3.7/site-packages/numpy/core/fromnumeric.py:3373: RuntimeWarning: Mean of empty slice.\n",
      "  out=out, **kwargs)\n",
      "/people/montariol/anaconda3/lib/python3.7/site-packages/numpy/core/_methods.py:163: RuntimeWarning: invalid value encountered in true_divide\n",
      "  ret, rcount, out=ret, casting='unsafe', subok=False)\n",
      "/people/montariol/anaconda3/lib/python3.7/site-packages/ot/bregman.py:355: RuntimeWarning: divide by zero encountered in true_divide\n",
      "  Kp = (1 / a).reshape(-1, 1) * K\n"
     ]
    },
    {
     "name": "stdout",
     "output_type": "stream",
     "text": [
      "Warning: numerical errors at iteration 0\n",
      "Warning: numerical errors at iteration 0\n",
      "english 23 gas_nn\n"
     ]
    },
    {
     "name": "stderr",
     "output_type": "stream",
     "text": [
      "/people/montariol/anaconda3/lib/python3.7/site-packages/numpy/core/fromnumeric.py:3373: RuntimeWarning: Mean of empty slice.\n",
      "  out=out, **kwargs)\n",
      "/people/montariol/anaconda3/lib/python3.7/site-packages/numpy/core/_methods.py:163: RuntimeWarning: invalid value encountered in true_divide\n",
      "  ret, rcount, out=ret, casting='unsafe', subok=False)\n",
      "/people/montariol/anaconda3/lib/python3.7/site-packages/ot/bregman.py:355: RuntimeWarning: divide by zero encountered in true_divide\n",
      "  Kp = (1 / a).reshape(-1, 1) * K\n"
     ]
    },
    {
     "name": "stdout",
     "output_type": "stream",
     "text": [
      "english 24 donkey_nn\n"
     ]
    },
    {
     "name": "stderr",
     "output_type": "stream",
     "text": [
      "/people/montariol/anaconda3/lib/python3.7/site-packages/numpy/core/fromnumeric.py:3373: RuntimeWarning: Mean of empty slice.\n",
      "  out=out, **kwargs)\n",
      "/people/montariol/anaconda3/lib/python3.7/site-packages/numpy/core/_methods.py:163: RuntimeWarning: invalid value encountered in true_divide\n",
      "  ret, rcount, out=ret, casting='unsafe', subok=False)\n",
      "/people/montariol/anaconda3/lib/python3.7/site-packages/ot/bregman.py:355: RuntimeWarning: divide by zero encountered in true_divide\n",
      "  Kp = (1 / a).reshape(-1, 1) * K\n"
     ]
    },
    {
     "name": "stdout",
     "output_type": "stream",
     "text": [
      "english 25 circle_vb\n",
      "english 26 quilt_nn\n",
      "english 27 stroke_vb\n"
     ]
    },
    {
     "name": "stderr",
     "output_type": "stream",
     "text": [
      "/people/montariol/anaconda3/lib/python3.7/site-packages/numpy/core/fromnumeric.py:3373: RuntimeWarning: Mean of empty slice.\n",
      "  out=out, **kwargs)\n",
      "/people/montariol/anaconda3/lib/python3.7/site-packages/numpy/core/_methods.py:163: RuntimeWarning: invalid value encountered in true_divide\n",
      "  ret, rcount, out=ret, casting='unsafe', subok=False)\n"
     ]
    },
    {
     "name": "stdout",
     "output_type": "stream",
     "text": [
      "english 28 ounce_nn\n"
     ]
    },
    {
     "name": "stderr",
     "output_type": "stream",
     "text": [
      "/people/montariol/anaconda3/lib/python3.7/site-packages/numpy/core/fromnumeric.py:3373: RuntimeWarning: Mean of empty slice.\n",
      "  out=out, **kwargs)\n",
      "/people/montariol/anaconda3/lib/python3.7/site-packages/numpy/core/_methods.py:163: RuntimeWarning: invalid value encountered in true_divide\n",
      "  ret, rcount, out=ret, casting='unsafe', subok=False)\n",
      "/people/montariol/anaconda3/lib/python3.7/site-packages/ot/bregman.py:355: RuntimeWarning: divide by zero encountered in true_divide\n",
      "  Kp = (1 / a).reshape(-1, 1) * K\n"
     ]
    },
    {
     "name": "stdout",
     "output_type": "stream",
     "text": [
      "english 29 relationship_nn\n"
     ]
    },
    {
     "name": "stderr",
     "output_type": "stream",
     "text": [
      "/people/montariol/anaconda3/lib/python3.7/site-packages/numpy/core/fromnumeric.py:3373: RuntimeWarning: Mean of empty slice.\n",
      "  out=out, **kwargs)\n",
      "/people/montariol/anaconda3/lib/python3.7/site-packages/numpy/core/_methods.py:163: RuntimeWarning: invalid value encountered in true_divide\n",
      "  ret, rcount, out=ret, casting='unsafe', subok=False)\n"
     ]
    },
    {
     "name": "stdout",
     "output_type": "stream",
     "text": [
      "english 30 twist_nn\n",
      "english 31 thump_nn\n"
     ]
    },
    {
     "name": "stderr",
     "output_type": "stream",
     "text": [
      "/people/montariol/anaconda3/lib/python3.7/site-packages/numpy/core/fromnumeric.py:3373: RuntimeWarning: Mean of empty slice.\n",
      "  out=out, **kwargs)\n",
      "/people/montariol/anaconda3/lib/python3.7/site-packages/numpy/core/_methods.py:163: RuntimeWarning: invalid value encountered in true_divide\n",
      "  ret, rcount, out=ret, casting='unsafe', subok=False)\n",
      "/people/montariol/anaconda3/lib/python3.7/site-packages/ot/bregman.py:355: RuntimeWarning: divide by zero encountered in true_divide\n",
      "  Kp = (1 / a).reshape(-1, 1) * K\n"
     ]
    },
    {
     "name": "stdout",
     "output_type": "stream",
     "text": [
      "english 32 chairman_nn\n"
     ]
    },
    {
     "name": "stderr",
     "output_type": "stream",
     "text": [
      "/people/montariol/anaconda3/lib/python3.7/site-packages/numpy/core/fromnumeric.py:3373: RuntimeWarning: Mean of empty slice.\n",
      "  out=out, **kwargs)\n",
      "/people/montariol/anaconda3/lib/python3.7/site-packages/numpy/core/_methods.py:163: RuntimeWarning: invalid value encountered in true_divide\n",
      "  ret, rcount, out=ret, casting='unsafe', subok=False)\n",
      "/people/montariol/anaconda3/lib/python3.7/site-packages/ot/bregman.py:355: RuntimeWarning: divide by zero encountered in true_divide\n",
      "  Kp = (1 / a).reshape(-1, 1) * K\n"
     ]
    },
    {
     "name": "stdout",
     "output_type": "stream",
     "text": [
      "english 33 lass_nn\n",
      "english 34 bag_nn\n",
      "english 35 graft_nn\n"
     ]
    },
    {
     "name": "stderr",
     "output_type": "stream",
     "text": [
      "/people/montariol/anaconda3/lib/python3.7/site-packages/numpy/core/fromnumeric.py:3373: RuntimeWarning: Mean of empty slice.\n",
      "  out=out, **kwargs)\n",
      "/people/montariol/anaconda3/lib/python3.7/site-packages/numpy/core/_methods.py:163: RuntimeWarning: invalid value encountered in true_divide\n",
      "  ret, rcount, out=ret, casting='unsafe', subok=False)\n",
      "/people/montariol/anaconda3/lib/python3.7/site-packages/ot/bregman.py:355: RuntimeWarning: divide by zero encountered in true_divide\n",
      "  Kp = (1 / a).reshape(-1, 1) * K\n"
     ]
    },
    {
     "name": "stdout",
     "output_type": "stream",
     "text": [
      "Warning: numerical errors at iteration 0\n",
      "Warning: numerical errors at iteration 0\n",
      "english 36 fiction_nn\n",
      "german 0 Tier\n"
     ]
    },
    {
     "name": "stderr",
     "output_type": "stream",
     "text": [
      "/people/montariol/anaconda3/lib/python3.7/site-packages/numpy/core/fromnumeric.py:3373: RuntimeWarning: Mean of empty slice.\n",
      "  out=out, **kwargs)\n",
      "/people/montariol/anaconda3/lib/python3.7/site-packages/numpy/core/_methods.py:163: RuntimeWarning: invalid value encountered in true_divide\n",
      "  ret, rcount, out=ret, casting='unsafe', subok=False)\n",
      "/people/montariol/anaconda3/lib/python3.7/site-packages/ot/bregman.py:355: RuntimeWarning: divide by zero encountered in true_divide\n",
      "  Kp = (1 / a).reshape(-1, 1) * K\n"
     ]
    },
    {
     "name": "stdout",
     "output_type": "stream",
     "text": [
      "german 1 Fuß\n",
      "german 2 Entscheidung\n",
      "german 3 packen\n",
      "german 4 Tragfähigkeit\n",
      "german 5 beimischen\n"
     ]
    },
    {
     "name": "stderr",
     "output_type": "stream",
     "text": [
      "/people/montariol/anaconda3/lib/python3.7/site-packages/numpy/core/fromnumeric.py:3373: RuntimeWarning: Mean of empty slice.\n",
      "  out=out, **kwargs)\n",
      "/people/montariol/anaconda3/lib/python3.7/site-packages/numpy/core/_methods.py:163: RuntimeWarning: invalid value encountered in true_divide\n",
      "  ret, rcount, out=ret, casting='unsafe', subok=False)\n"
     ]
    },
    {
     "name": "stdout",
     "output_type": "stream",
     "text": [
      "german 6 Titel\n"
     ]
    },
    {
     "name": "stderr",
     "output_type": "stream",
     "text": [
      "/people/montariol/anaconda3/lib/python3.7/site-packages/numpy/core/fromnumeric.py:3373: RuntimeWarning: Mean of empty slice.\n",
      "  out=out, **kwargs)\n",
      "/people/montariol/anaconda3/lib/python3.7/site-packages/numpy/core/_methods.py:163: RuntimeWarning: invalid value encountered in true_divide\n",
      "  ret, rcount, out=ret, casting='unsafe', subok=False)\n",
      "/people/montariol/anaconda3/lib/python3.7/site-packages/ot/bregman.py:355: RuntimeWarning: divide by zero encountered in true_divide\n",
      "  Kp = (1 / a).reshape(-1, 1) * K\n"
     ]
    },
    {
     "name": "stdout",
     "output_type": "stream",
     "text": [
      "german 7 Mulatte\n"
     ]
    },
    {
     "name": "stderr",
     "output_type": "stream",
     "text": [
      "/people/montariol/anaconda3/lib/python3.7/site-packages/numpy/core/fromnumeric.py:3373: RuntimeWarning: Mean of empty slice.\n",
      "  out=out, **kwargs)\n",
      "/people/montariol/anaconda3/lib/python3.7/site-packages/numpy/core/_methods.py:163: RuntimeWarning: invalid value encountered in true_divide\n",
      "  ret, rcount, out=ret, casting='unsafe', subok=False)\n",
      "/people/montariol/anaconda3/lib/python3.7/site-packages/ot/bregman.py:355: RuntimeWarning: divide by zero encountered in true_divide\n",
      "  Kp = (1 / a).reshape(-1, 1) * K\n"
     ]
    },
    {
     "name": "stdout",
     "output_type": "stream",
     "text": [
      "german 8 Truppenteil\n"
     ]
    },
    {
     "name": "stderr",
     "output_type": "stream",
     "text": [
      "/people/montariol/anaconda3/lib/python3.7/site-packages/numpy/core/fromnumeric.py:3373: RuntimeWarning: Mean of empty slice.\n",
      "  out=out, **kwargs)\n",
      "/people/montariol/anaconda3/lib/python3.7/site-packages/numpy/core/_methods.py:163: RuntimeWarning: invalid value encountered in true_divide\n",
      "  ret, rcount, out=ret, casting='unsafe', subok=False)\n",
      "/people/montariol/anaconda3/lib/python3.7/site-packages/ot/bregman.py:355: RuntimeWarning: divide by zero encountered in true_divide\n",
      "  Kp = (1 / a).reshape(-1, 1) * K\n"
     ]
    },
    {
     "name": "stdout",
     "output_type": "stream",
     "text": [
      "Warning: numerical errors at iteration 0\n",
      "Warning: numerical errors at iteration 0\n",
      "german 9 Frechheit\n",
      "german 10 vorliegen\n",
      "german 11 abbauen\n"
     ]
    },
    {
     "name": "stderr",
     "output_type": "stream",
     "text": [
      "/people/montariol/anaconda3/lib/python3.7/site-packages/numpy/core/fromnumeric.py:3373: RuntimeWarning: Mean of empty slice.\n",
      "  out=out, **kwargs)\n",
      "/people/montariol/anaconda3/lib/python3.7/site-packages/numpy/core/_methods.py:163: RuntimeWarning: invalid value encountered in true_divide\n",
      "  ret, rcount, out=ret, casting='unsafe', subok=False)\n",
      "/people/montariol/anaconda3/lib/python3.7/site-packages/ot/bregman.py:355: RuntimeWarning: divide by zero encountered in true_divide\n",
      "  Kp = (1 / a).reshape(-1, 1) * K\n"
     ]
    },
    {
     "name": "stdout",
     "output_type": "stream",
     "text": [
      "german 12 ausspannen\n",
      "german 13 vergönnen\n",
      "german 14 zersetzen\n"
     ]
    },
    {
     "name": "stderr",
     "output_type": "stream",
     "text": [
      "/people/montariol/anaconda3/lib/python3.7/site-packages/numpy/core/fromnumeric.py:3373: RuntimeWarning: Mean of empty slice.\n",
      "  out=out, **kwargs)\n",
      "/people/montariol/anaconda3/lib/python3.7/site-packages/numpy/core/_methods.py:163: RuntimeWarning: invalid value encountered in true_divide\n",
      "  ret, rcount, out=ret, casting='unsafe', subok=False)\n",
      "/people/montariol/anaconda3/lib/python3.7/site-packages/ot/bregman.py:355: RuntimeWarning: divide by zero encountered in true_divide\n",
      "  Kp = (1 / a).reshape(-1, 1) * K\n"
     ]
    },
    {
     "name": "stdout",
     "output_type": "stream",
     "text": [
      "german 15 Sensation\n"
     ]
    },
    {
     "name": "stderr",
     "output_type": "stream",
     "text": [
      "/people/montariol/anaconda3/lib/python3.7/site-packages/numpy/core/fromnumeric.py:3373: RuntimeWarning: Mean of empty slice.\n",
      "  out=out, **kwargs)\n",
      "/people/montariol/anaconda3/lib/python3.7/site-packages/numpy/core/_methods.py:163: RuntimeWarning: invalid value encountered in true_divide\n",
      "  ret, rcount, out=ret, casting='unsafe', subok=False)\n"
     ]
    },
    {
     "name": "stdout",
     "output_type": "stream",
     "text": [
      "german 16 Spielball\n"
     ]
    },
    {
     "name": "stderr",
     "output_type": "stream",
     "text": [
      "/people/montariol/anaconda3/lib/python3.7/site-packages/numpy/core/fromnumeric.py:3373: RuntimeWarning: Mean of empty slice.\n",
      "  out=out, **kwargs)\n",
      "/people/montariol/anaconda3/lib/python3.7/site-packages/numpy/core/_methods.py:163: RuntimeWarning: invalid value encountered in true_divide\n",
      "  ret, rcount, out=ret, casting='unsafe', subok=False)\n",
      "/people/montariol/anaconda3/lib/python3.7/site-packages/ot/bregman.py:355: RuntimeWarning: divide by zero encountered in true_divide\n",
      "  Kp = (1 / a).reshape(-1, 1) * K\n"
     ]
    },
    {
     "name": "stdout",
     "output_type": "stream",
     "text": [
      "german 17 Ausnahmegesetz\n"
     ]
    },
    {
     "name": "stderr",
     "output_type": "stream",
     "text": [
      "/people/montariol/anaconda3/lib/python3.7/site-packages/numpy/core/fromnumeric.py:3373: RuntimeWarning: Mean of empty slice.\n",
      "  out=out, **kwargs)\n",
      "/people/montariol/anaconda3/lib/python3.7/site-packages/numpy/core/_methods.py:163: RuntimeWarning: invalid value encountered in true_divide\n",
      "  ret, rcount, out=ret, casting='unsafe', subok=False)\n",
      "/people/montariol/anaconda3/lib/python3.7/site-packages/ot/bregman.py:355: RuntimeWarning: divide by zero encountered in true_divide\n",
      "  Kp = (1 / a).reshape(-1, 1) * K\n"
     ]
    },
    {
     "name": "stdout",
     "output_type": "stream",
     "text": [
      "german 18 vorweisen\n"
     ]
    },
    {
     "name": "stderr",
     "output_type": "stream",
     "text": [
      "/people/montariol/anaconda3/lib/python3.7/site-packages/numpy/core/fromnumeric.py:3373: RuntimeWarning: Mean of empty slice.\n",
      "  out=out, **kwargs)\n",
      "/people/montariol/anaconda3/lib/python3.7/site-packages/numpy/core/_methods.py:163: RuntimeWarning: invalid value encountered in true_divide\n",
      "  ret, rcount, out=ret, casting='unsafe', subok=False)\n",
      "/people/montariol/anaconda3/lib/python3.7/site-packages/ot/bregman.py:355: RuntimeWarning: divide by zero encountered in true_divide\n",
      "  Kp = (1 / a).reshape(-1, 1) * K\n"
     ]
    },
    {
     "name": "stdout",
     "output_type": "stream",
     "text": [
      "german 19 Rezeption\n"
     ]
    },
    {
     "name": "stderr",
     "output_type": "stream",
     "text": [
      "/people/montariol/anaconda3/lib/python3.7/site-packages/numpy/core/fromnumeric.py:3373: RuntimeWarning: Mean of empty slice.\n",
      "  out=out, **kwargs)\n",
      "/people/montariol/anaconda3/lib/python3.7/site-packages/numpy/core/_methods.py:163: RuntimeWarning: invalid value encountered in true_divide\n",
      "  ret, rcount, out=ret, casting='unsafe', subok=False)\n",
      "/people/montariol/anaconda3/lib/python3.7/site-packages/ot/bregman.py:355: RuntimeWarning: divide by zero encountered in true_divide\n",
      "  Kp = (1 / a).reshape(-1, 1) * K\n"
     ]
    },
    {
     "name": "stdout",
     "output_type": "stream",
     "text": [
      "german 20 Lyzeum\n",
      "german 21 voranstellen\n",
      "german 22 Einreichung\n",
      "german 23 abdecken\n"
     ]
    },
    {
     "name": "stderr",
     "output_type": "stream",
     "text": [
      "/people/montariol/anaconda3/lib/python3.7/site-packages/numpy/core/fromnumeric.py:3373: RuntimeWarning: Mean of empty slice.\n",
      "  out=out, **kwargs)\n",
      "/people/montariol/anaconda3/lib/python3.7/site-packages/numpy/core/_methods.py:163: RuntimeWarning: invalid value encountered in true_divide\n",
      "  ret, rcount, out=ret, casting='unsafe', subok=False)\n",
      "/people/montariol/anaconda3/lib/python3.7/site-packages/ot/bregman.py:355: RuntimeWarning: divide by zero encountered in true_divide\n",
      "  Kp = (1 / a).reshape(-1, 1) * K\n"
     ]
    },
    {
     "name": "stdout",
     "output_type": "stream",
     "text": [
      "german 24 Armenhaus\n"
     ]
    },
    {
     "name": "stderr",
     "output_type": "stream",
     "text": [
      "/people/montariol/anaconda3/lib/python3.7/site-packages/numpy/core/fromnumeric.py:3373: RuntimeWarning: Mean of empty slice.\n",
      "  out=out, **kwargs)\n",
      "/people/montariol/anaconda3/lib/python3.7/site-packages/numpy/core/_methods.py:163: RuntimeWarning: invalid value encountered in true_divide\n",
      "  ret, rcount, out=ret, casting='unsafe', subok=False)\n",
      "/people/montariol/anaconda3/lib/python3.7/site-packages/ot/bregman.py:355: RuntimeWarning: divide by zero encountered in true_divide\n",
      "  Kp = (1 / a).reshape(-1, 1) * K\n"
     ]
    },
    {
     "name": "stdout",
     "output_type": "stream",
     "text": [
      "Warning: numerical errors at iteration 0\n",
      "Warning: numerical errors at iteration 0\n",
      "german 25 Kubikmeter\n"
     ]
    },
    {
     "name": "stderr",
     "output_type": "stream",
     "text": [
      "/people/montariol/anaconda3/lib/python3.7/site-packages/numpy/core/fromnumeric.py:3373: RuntimeWarning: Mean of empty slice.\n",
      "  out=out, **kwargs)\n",
      "/people/montariol/anaconda3/lib/python3.7/site-packages/numpy/core/_methods.py:163: RuntimeWarning: invalid value encountered in true_divide\n",
      "  ret, rcount, out=ret, casting='unsafe', subok=False)\n"
     ]
    },
    {
     "name": "stdout",
     "output_type": "stream",
     "text": [
      "german 26 Manschette\n",
      "german 27 Schmiere\n",
      "german 28 Knotenpunkt\n"
     ]
    },
    {
     "name": "stderr",
     "output_type": "stream",
     "text": [
      "/people/montariol/anaconda3/lib/python3.7/site-packages/numpy/core/fromnumeric.py:3373: RuntimeWarning: Mean of empty slice.\n",
      "  out=out, **kwargs)\n",
      "/people/montariol/anaconda3/lib/python3.7/site-packages/numpy/core/_methods.py:163: RuntimeWarning: invalid value encountered in true_divide\n",
      "  ret, rcount, out=ret, casting='unsafe', subok=False)\n"
     ]
    },
    {
     "name": "stdout",
     "output_type": "stream",
     "text": [
      "german 29 Naturschönheit\n",
      "german 30 Mißklang\n"
     ]
    },
    {
     "name": "stderr",
     "output_type": "stream",
     "text": [
      "/people/montariol/anaconda3/lib/python3.7/site-packages/numpy/core/fromnumeric.py:3373: RuntimeWarning: Mean of empty slice.\n",
      "  out=out, **kwargs)\n",
      "/people/montariol/anaconda3/lib/python3.7/site-packages/numpy/core/_methods.py:163: RuntimeWarning: invalid value encountered in true_divide\n",
      "  ret, rcount, out=ret, casting='unsafe', subok=False)\n",
      "/people/montariol/anaconda3/lib/python3.7/site-packages/ot/bregman.py:355: RuntimeWarning: divide by zero encountered in true_divide\n",
      "  Kp = (1 / a).reshape(-1, 1) * K\n"
     ]
    },
    {
     "name": "stdout",
     "output_type": "stream",
     "text": [
      "german 31 Gesichtsausdruck\n"
     ]
    },
    {
     "name": "stderr",
     "output_type": "stream",
     "text": [
      "/people/montariol/anaconda3/lib/python3.7/site-packages/numpy/core/fromnumeric.py:3373: RuntimeWarning: Mean of empty slice.\n",
      "  out=out, **kwargs)\n",
      "/people/montariol/anaconda3/lib/python3.7/site-packages/numpy/core/_methods.py:163: RuntimeWarning: invalid value encountered in true_divide\n",
      "  ret, rcount, out=ret, casting='unsafe', subok=False)\n",
      "/people/montariol/anaconda3/lib/python3.7/site-packages/ot/bregman.py:355: RuntimeWarning: divide by zero encountered in true_divide\n",
      "  Kp = (1 / a).reshape(-1, 1) * K\n"
     ]
    },
    {
     "name": "stdout",
     "output_type": "stream",
     "text": [
      "german 32 Abgesang\n"
     ]
    },
    {
     "name": "stderr",
     "output_type": "stream",
     "text": [
      "/people/montariol/anaconda3/lib/python3.7/site-packages/numpy/core/fromnumeric.py:3373: RuntimeWarning: Mean of empty slice.\n",
      "  out=out, **kwargs)\n",
      "/people/montariol/anaconda3/lib/python3.7/site-packages/numpy/core/_methods.py:163: RuntimeWarning: invalid value encountered in true_divide\n",
      "  ret, rcount, out=ret, casting='unsafe', subok=False)\n",
      "/people/montariol/anaconda3/lib/python3.7/site-packages/ot/bregman.py:355: RuntimeWarning: divide by zero encountered in true_divide\n",
      "  Kp = (1 / a).reshape(-1, 1) * K\n"
     ]
    },
    {
     "name": "stdout",
     "output_type": "stream",
     "text": [
      "Warning: numerical errors at iteration 0\n",
      "Warning: numerical errors at iteration 0\n",
      "german 33 Dynamik\n"
     ]
    },
    {
     "name": "stderr",
     "output_type": "stream",
     "text": [
      "/people/montariol/anaconda3/lib/python3.7/site-packages/numpy/core/fromnumeric.py:3373: RuntimeWarning: Mean of empty slice.\n",
      "  out=out, **kwargs)\n",
      "/people/montariol/anaconda3/lib/python3.7/site-packages/numpy/core/_methods.py:163: RuntimeWarning: invalid value encountered in true_divide\n",
      "  ret, rcount, out=ret, casting='unsafe', subok=False)\n",
      "/people/montariol/anaconda3/lib/python3.7/site-packages/ot/bregman.py:355: RuntimeWarning: divide by zero encountered in true_divide\n",
      "  Kp = (1 / a).reshape(-1, 1) * K\n"
     ]
    },
    {
     "name": "stdout",
     "output_type": "stream",
     "text": [
      "german 34 Festspiel\n"
     ]
    },
    {
     "name": "stderr",
     "output_type": "stream",
     "text": [
      "/people/montariol/anaconda3/lib/python3.7/site-packages/numpy/core/fromnumeric.py:3373: RuntimeWarning: Mean of empty slice.\n",
      "  out=out, **kwargs)\n",
      "/people/montariol/anaconda3/lib/python3.7/site-packages/numpy/core/_methods.py:163: RuntimeWarning: invalid value encountered in true_divide\n",
      "  ret, rcount, out=ret, casting='unsafe', subok=False)\n",
      "/people/montariol/anaconda3/lib/python3.7/site-packages/ot/bregman.py:355: RuntimeWarning: divide by zero encountered in true_divide\n",
      "  Kp = (1 / a).reshape(-1, 1) * K\n"
     ]
    },
    {
     "name": "stdout",
     "output_type": "stream",
     "text": [
      "Warning: numerical errors at iteration 0\n",
      "Warning: numerical errors at iteration 0\n",
      "german 35 verbauen\n",
      "german 36 Seminar\n"
     ]
    },
    {
     "name": "stderr",
     "output_type": "stream",
     "text": [
      "/people/montariol/anaconda3/lib/python3.7/site-packages/numpy/core/fromnumeric.py:3373: RuntimeWarning: Mean of empty slice.\n",
      "  out=out, **kwargs)\n",
      "/people/montariol/anaconda3/lib/python3.7/site-packages/numpy/core/_methods.py:163: RuntimeWarning: invalid value encountered in true_divide\n",
      "  ret, rcount, out=ret, casting='unsafe', subok=False)\n",
      "/people/montariol/anaconda3/lib/python3.7/site-packages/ot/bregman.py:355: RuntimeWarning: divide by zero encountered in true_divide\n",
      "  Kp = (1 / a).reshape(-1, 1) * K\n"
     ]
    },
    {
     "name": "stdout",
     "output_type": "stream",
     "text": [
      "Warning: numerical errors at iteration 0\n",
      "Warning: numerical errors at iteration 0\n",
      "german 37 Unentschlossenheit\n",
      "german 38 weitgreifend\n"
     ]
    },
    {
     "name": "stderr",
     "output_type": "stream",
     "text": [
      "/people/montariol/anaconda3/lib/python3.7/site-packages/numpy/core/fromnumeric.py:3373: RuntimeWarning: Mean of empty slice.\n",
      "  out=out, **kwargs)\n",
      "/people/montariol/anaconda3/lib/python3.7/site-packages/numpy/core/_methods.py:163: RuntimeWarning: invalid value encountered in true_divide\n",
      "  ret, rcount, out=ret, casting='unsafe', subok=False)\n",
      "/people/montariol/anaconda3/lib/python3.7/site-packages/ot/bregman.py:355: RuntimeWarning: divide by zero encountered in true_divide\n",
      "  Kp = (1 / a).reshape(-1, 1) * K\n"
     ]
    },
    {
     "name": "stdout",
     "output_type": "stream",
     "text": [
      "german 39 artikulieren\n"
     ]
    },
    {
     "name": "stderr",
     "output_type": "stream",
     "text": [
      "/people/montariol/anaconda3/lib/python3.7/site-packages/numpy/core/fromnumeric.py:3373: RuntimeWarning: Mean of empty slice.\n",
      "  out=out, **kwargs)\n",
      "/people/montariol/anaconda3/lib/python3.7/site-packages/numpy/core/_methods.py:163: RuntimeWarning: invalid value encountered in true_divide\n",
      "  ret, rcount, out=ret, casting='unsafe', subok=False)\n",
      "/people/montariol/anaconda3/lib/python3.7/site-packages/ot/bregman.py:355: RuntimeWarning: divide by zero encountered in true_divide\n",
      "  Kp = (1 / a).reshape(-1, 1) * K\n"
     ]
    },
    {
     "name": "stdout",
     "output_type": "stream",
     "text": [
      "Warning: numerical errors at iteration 0\n",
      "Warning: numerical errors at iteration 0\n",
      "german 40 Ackergerät\n"
     ]
    },
    {
     "name": "stderr",
     "output_type": "stream",
     "text": [
      "/people/montariol/anaconda3/lib/python3.7/site-packages/numpy/core/fromnumeric.py:3373: RuntimeWarning: Mean of empty slice.\n",
      "  out=out, **kwargs)\n",
      "/people/montariol/anaconda3/lib/python3.7/site-packages/numpy/core/_methods.py:163: RuntimeWarning: invalid value encountered in true_divide\n",
      "  ret, rcount, out=ret, casting='unsafe', subok=False)\n",
      "/people/montariol/anaconda3/lib/python3.7/site-packages/ot/bregman.py:355: RuntimeWarning: divide by zero encountered in true_divide\n",
      "  Kp = (1 / a).reshape(-1, 1) * K\n"
     ]
    },
    {
     "name": "stdout",
     "output_type": "stream",
     "text": [
      "german 41 Eintagsfliege\n"
     ]
    },
    {
     "name": "stderr",
     "output_type": "stream",
     "text": [
      "/people/montariol/anaconda3/lib/python3.7/site-packages/numpy/core/fromnumeric.py:3373: RuntimeWarning: Mean of empty slice.\n",
      "  out=out, **kwargs)\n",
      "/people/montariol/anaconda3/lib/python3.7/site-packages/numpy/core/_methods.py:163: RuntimeWarning: invalid value encountered in true_divide\n",
      "  ret, rcount, out=ret, casting='unsafe', subok=False)\n",
      "/people/montariol/anaconda3/lib/python3.7/site-packages/ot/bregman.py:355: RuntimeWarning: divide by zero encountered in true_divide\n",
      "  Kp = (1 / a).reshape(-1, 1) * K\n"
     ]
    },
    {
     "name": "stdout",
     "output_type": "stream",
     "text": [
      "german 42 überspannen\n",
      "german 43 abgebrüht\n"
     ]
    },
    {
     "name": "stderr",
     "output_type": "stream",
     "text": [
      "/people/montariol/anaconda3/lib/python3.7/site-packages/numpy/core/fromnumeric.py:3373: RuntimeWarning: Mean of empty slice.\n",
      "  out=out, **kwargs)\n",
      "/people/montariol/anaconda3/lib/python3.7/site-packages/numpy/core/_methods.py:163: RuntimeWarning: invalid value encountered in true_divide\n",
      "  ret, rcount, out=ret, casting='unsafe', subok=False)\n"
     ]
    },
    {
     "name": "stdout",
     "output_type": "stream",
     "text": [
      "german 44 aufrechterhalten\n",
      "german 45 Ohrwurm\n"
     ]
    },
    {
     "name": "stderr",
     "output_type": "stream",
     "text": [
      "/people/montariol/anaconda3/lib/python3.7/site-packages/numpy/core/fromnumeric.py:3373: RuntimeWarning: Mean of empty slice.\n",
      "  out=out, **kwargs)\n",
      "/people/montariol/anaconda3/lib/python3.7/site-packages/numpy/core/_methods.py:163: RuntimeWarning: invalid value encountered in true_divide\n",
      "  ret, rcount, out=ret, casting='unsafe', subok=False)\n",
      "/people/montariol/anaconda3/lib/python3.7/site-packages/ot/bregman.py:355: RuntimeWarning: divide by zero encountered in true_divide\n",
      "  Kp = (1 / a).reshape(-1, 1) * K\n"
     ]
    },
    {
     "name": "stdout",
     "output_type": "stream",
     "text": [
      "german 46 Pachtzins\n"
     ]
    },
    {
     "name": "stderr",
     "output_type": "stream",
     "text": [
      "/people/montariol/anaconda3/lib/python3.7/site-packages/numpy/core/fromnumeric.py:3373: RuntimeWarning: Mean of empty slice.\n",
      "  out=out, **kwargs)\n",
      "/people/montariol/anaconda3/lib/python3.7/site-packages/numpy/core/_methods.py:163: RuntimeWarning: invalid value encountered in true_divide\n",
      "  ret, rcount, out=ret, casting='unsafe', subok=False)\n",
      "/people/montariol/anaconda3/lib/python3.7/site-packages/ot/bregman.py:355: RuntimeWarning: divide by zero encountered in true_divide\n",
      "  Kp = (1 / a).reshape(-1, 1) * K\n"
     ]
    },
    {
     "name": "stdout",
     "output_type": "stream",
     "text": [
      "german 47 Engpaß\n"
     ]
    },
    {
     "name": "stderr",
     "output_type": "stream",
     "text": [
      "/people/montariol/anaconda3/lib/python3.7/site-packages/numpy/core/fromnumeric.py:3373: RuntimeWarning: Mean of empty slice.\n",
      "  out=out, **kwargs)\n",
      "/people/montariol/anaconda3/lib/python3.7/site-packages/numpy/core/_methods.py:163: RuntimeWarning: invalid value encountered in true_divide\n",
      "  ret, rcount, out=ret, casting='unsafe', subok=False)\n",
      "/people/montariol/anaconda3/lib/python3.7/site-packages/ot/bregman.py:355: RuntimeWarning: divide by zero encountered in true_divide\n",
      "  Kp = (1 / a).reshape(-1, 1) * K\n"
     ]
    },
    {
     "name": "stdout",
     "output_type": "stream",
     "text": [
      "swedish 0 krita\n"
     ]
    },
    {
     "name": "stderr",
     "output_type": "stream",
     "text": [
      "/people/montariol/anaconda3/lib/python3.7/site-packages/numpy/core/fromnumeric.py:3373: RuntimeWarning: Mean of empty slice.\n",
      "  out=out, **kwargs)\n",
      "/people/montariol/anaconda3/lib/python3.7/site-packages/numpy/core/_methods.py:163: RuntimeWarning: invalid value encountered in true_divide\n",
      "  ret, rcount, out=ret, casting='unsafe', subok=False)\n",
      "/people/montariol/anaconda3/lib/python3.7/site-packages/ot/bregman.py:355: RuntimeWarning: divide by zero encountered in true_divide\n",
      "  Kp = (1 / a).reshape(-1, 1) * K\n"
     ]
    },
    {
     "name": "stdout",
     "output_type": "stream",
     "text": [
      "Warning: numerical errors at iteration 0\n",
      "Warning: numerical errors at iteration 0\n",
      "swedish 1 färg\n",
      "swedish 2 by\n",
      "swedish 3 uträtta\n",
      "swedish 4 uppfostran\n",
      "swedish 5 konduktör\n"
     ]
    },
    {
     "name": "stderr",
     "output_type": "stream",
     "text": [
      "/people/montariol/anaconda3/lib/python3.7/site-packages/numpy/core/fromnumeric.py:3373: RuntimeWarning: Mean of empty slice.\n",
      "  out=out, **kwargs)\n",
      "/people/montariol/anaconda3/lib/python3.7/site-packages/numpy/core/_methods.py:163: RuntimeWarning: invalid value encountered in true_divide\n",
      "  ret, rcount, out=ret, casting='unsafe', subok=False)\n",
      "/people/montariol/anaconda3/lib/python3.7/site-packages/ot/bregman.py:355: RuntimeWarning: divide by zero encountered in true_divide\n",
      "  Kp = (1 / a).reshape(-1, 1) * K\n"
     ]
    },
    {
     "name": "stdout",
     "output_type": "stream",
     "text": [
      "swedish 6 studie\n"
     ]
    },
    {
     "name": "stderr",
     "output_type": "stream",
     "text": [
      "/people/montariol/anaconda3/lib/python3.7/site-packages/numpy/core/fromnumeric.py:3373: RuntimeWarning: Mean of empty slice.\n",
      "  out=out, **kwargs)\n",
      "/people/montariol/anaconda3/lib/python3.7/site-packages/numpy/core/_methods.py:163: RuntimeWarning: invalid value encountered in true_divide\n",
      "  ret, rcount, out=ret, casting='unsafe', subok=False)\n",
      "/people/montariol/anaconda3/lib/python3.7/site-packages/ot/bregman.py:355: RuntimeWarning: divide by zero encountered in true_divide\n",
      "  Kp = (1 / a).reshape(-1, 1) * K\n"
     ]
    },
    {
     "name": "stdout",
     "output_type": "stream",
     "text": [
      "swedish 7 bedömande\n",
      "swedish 8 medium\n"
     ]
    },
    {
     "name": "stderr",
     "output_type": "stream",
     "text": [
      "/people/montariol/anaconda3/lib/python3.7/site-packages/numpy/core/fromnumeric.py:3373: RuntimeWarning: Mean of empty slice.\n",
      "  out=out, **kwargs)\n",
      "/people/montariol/anaconda3/lib/python3.7/site-packages/numpy/core/_methods.py:163: RuntimeWarning: invalid value encountered in true_divide\n",
      "  ret, rcount, out=ret, casting='unsafe', subok=False)\n",
      "/people/montariol/anaconda3/lib/python3.7/site-packages/ot/bregman.py:355: RuntimeWarning: divide by zero encountered in true_divide\n",
      "  Kp = (1 / a).reshape(-1, 1) * K\n"
     ]
    },
    {
     "name": "stdout",
     "output_type": "stream",
     "text": [
      "swedish 9 bröllop\n"
     ]
    },
    {
     "name": "stderr",
     "output_type": "stream",
     "text": [
      "/people/montariol/anaconda3/lib/python3.7/site-packages/numpy/core/fromnumeric.py:3373: RuntimeWarning: Mean of empty slice.\n",
      "  out=out, **kwargs)\n",
      "/people/montariol/anaconda3/lib/python3.7/site-packages/numpy/core/_methods.py:163: RuntimeWarning: invalid value encountered in true_divide\n",
      "  ret, rcount, out=ret, casting='unsafe', subok=False)\n",
      "/people/montariol/anaconda3/lib/python3.7/site-packages/ot/bregman.py:355: RuntimeWarning: divide by zero encountered in true_divide\n",
      "  Kp = (1 / a).reshape(-1, 1) * K\n"
     ]
    },
    {
     "name": "stdout",
     "output_type": "stream",
     "text": [
      "swedish 10 vegetation\n",
      "swedish 11 annandag\n"
     ]
    },
    {
     "name": "stderr",
     "output_type": "stream",
     "text": [
      "/people/montariol/anaconda3/lib/python3.7/site-packages/numpy/core/fromnumeric.py:3373: RuntimeWarning: Mean of empty slice.\n",
      "  out=out, **kwargs)\n",
      "/people/montariol/anaconda3/lib/python3.7/site-packages/numpy/core/_methods.py:163: RuntimeWarning: invalid value encountered in true_divide\n",
      "  ret, rcount, out=ret, casting='unsafe', subok=False)\n"
     ]
    },
    {
     "name": "stdout",
     "output_type": "stream",
     "text": [
      "swedish 12 antyda\n"
     ]
    },
    {
     "name": "stderr",
     "output_type": "stream",
     "text": [
      "/people/montariol/anaconda3/lib/python3.7/site-packages/numpy/core/fromnumeric.py:3373: RuntimeWarning: Mean of empty slice.\n",
      "  out=out, **kwargs)\n",
      "/people/montariol/anaconda3/lib/python3.7/site-packages/numpy/core/_methods.py:163: RuntimeWarning: invalid value encountered in true_divide\n",
      "  ret, rcount, out=ret, casting='unsafe', subok=False)\n"
     ]
    },
    {
     "name": "stdout",
     "output_type": "stream",
     "text": [
      "swedish 13 ledning\n",
      "swedish 14 granskare\n"
     ]
    },
    {
     "name": "stderr",
     "output_type": "stream",
     "text": [
      "/people/montariol/anaconda3/lib/python3.7/site-packages/numpy/core/fromnumeric.py:3373: RuntimeWarning: Mean of empty slice.\n",
      "  out=out, **kwargs)\n",
      "/people/montariol/anaconda3/lib/python3.7/site-packages/numpy/core/_methods.py:163: RuntimeWarning: invalid value encountered in true_divide\n",
      "  ret, rcount, out=ret, casting='unsafe', subok=False)\n",
      "/people/montariol/anaconda3/lib/python3.7/site-packages/ot/bregman.py:355: RuntimeWarning: divide by zero encountered in true_divide\n",
      "  Kp = (1 / a).reshape(-1, 1) * K\n"
     ]
    },
    {
     "name": "stdout",
     "output_type": "stream",
     "text": [
      "Warning: numerical errors at iteration 0\n",
      "Warning: numerical errors at iteration 0\n",
      "swedish 15 beredning\n",
      "swedish 16 blockera\n",
      "swedish 17 bearbeta\n",
      "swedish 18 bolagsstämma\n"
     ]
    },
    {
     "name": "stderr",
     "output_type": "stream",
     "text": [
      "/people/montariol/anaconda3/lib/python3.7/site-packages/numpy/core/fromnumeric.py:3373: RuntimeWarning: Mean of empty slice.\n",
      "  out=out, **kwargs)\n",
      "/people/montariol/anaconda3/lib/python3.7/site-packages/numpy/core/_methods.py:163: RuntimeWarning: invalid value encountered in true_divide\n",
      "  ret, rcount, out=ret, casting='unsafe', subok=False)\n",
      "/people/montariol/anaconda3/lib/python3.7/site-packages/ot/bregman.py:355: RuntimeWarning: divide by zero encountered in true_divide\n",
      "  Kp = (1 / a).reshape(-1, 1) * K\n"
     ]
    },
    {
     "name": "stdout",
     "output_type": "stream",
     "text": [
      "Warning: numerical errors at iteration 0\n",
      "Warning: numerical errors at iteration 0\n",
      "swedish 19 central\n"
     ]
    },
    {
     "name": "stderr",
     "output_type": "stream",
     "text": [
      "/people/montariol/anaconda3/lib/python3.7/site-packages/numpy/core/fromnumeric.py:3373: RuntimeWarning: Mean of empty slice.\n",
      "  out=out, **kwargs)\n",
      "/people/montariol/anaconda3/lib/python3.7/site-packages/numpy/core/_methods.py:163: RuntimeWarning: invalid value encountered in true_divide\n",
      "  ret, rcount, out=ret, casting='unsafe', subok=False)\n",
      "/people/montariol/anaconda3/lib/python3.7/site-packages/ot/bregman.py:355: RuntimeWarning: divide by zero encountered in true_divide\n",
      "  Kp = (1 / a).reshape(-1, 1) * K\n"
     ]
    },
    {
     "name": "stdout",
     "output_type": "stream",
     "text": [
      "swedish 20 kemisk\n"
     ]
    },
    {
     "name": "stderr",
     "output_type": "stream",
     "text": [
      "/people/montariol/anaconda3/lib/python3.7/site-packages/numpy/core/fromnumeric.py:3373: RuntimeWarning: Mean of empty slice.\n",
      "  out=out, **kwargs)\n",
      "/people/montariol/anaconda3/lib/python3.7/site-packages/numpy/core/_methods.py:163: RuntimeWarning: invalid value encountered in true_divide\n",
      "  ret, rcount, out=ret, casting='unsafe', subok=False)\n",
      "/people/montariol/anaconda3/lib/python3.7/site-packages/ot/bregman.py:355: RuntimeWarning: divide by zero encountered in true_divide\n",
      "  Kp = (1 / a).reshape(-1, 1) * K\n"
     ]
    },
    {
     "name": "stdout",
     "output_type": "stream",
     "text": [
      "Warning: numerical errors at iteration 0\n",
      "Warning: numerical errors at iteration 0\n",
      "swedish 21 notis\n",
      "swedish 22 vaktmästare\n",
      "swedish 23 aktiv\n"
     ]
    },
    {
     "name": "stderr",
     "output_type": "stream",
     "text": [
      "/people/montariol/anaconda3/lib/python3.7/site-packages/numpy/core/fromnumeric.py:3373: RuntimeWarning: Mean of empty slice.\n",
      "  out=out, **kwargs)\n",
      "/people/montariol/anaconda3/lib/python3.7/site-packages/numpy/core/_methods.py:163: RuntimeWarning: invalid value encountered in true_divide\n",
      "  ret, rcount, out=ret, casting='unsafe', subok=False)\n",
      "/people/montariol/anaconda3/lib/python3.7/site-packages/ot/bregman.py:355: RuntimeWarning: divide by zero encountered in true_divide\n",
      "  Kp = (1 / a).reshape(-1, 1) * K\n"
     ]
    },
    {
     "name": "stdout",
     "output_type": "stream",
     "text": [
      "swedish 24 förhandling\n"
     ]
    },
    {
     "name": "stderr",
     "output_type": "stream",
     "text": [
      "/people/montariol/anaconda3/lib/python3.7/site-packages/numpy/core/fromnumeric.py:3373: RuntimeWarning: Mean of empty slice.\n",
      "  out=out, **kwargs)\n",
      "/people/montariol/anaconda3/lib/python3.7/site-packages/numpy/core/_methods.py:163: RuntimeWarning: invalid value encountered in true_divide\n",
      "  ret, rcount, out=ret, casting='unsafe', subok=False)\n",
      "/people/montariol/anaconda3/lib/python3.7/site-packages/ot/bregman.py:355: RuntimeWarning: divide by zero encountered in true_divide\n",
      "  Kp = (1 / a).reshape(-1, 1) * K\n"
     ]
    },
    {
     "name": "stdout",
     "output_type": "stream",
     "text": [
      "Warning: numerical errors at iteration 0\n",
      "Warning: numerical errors at iteration 0\n",
      "swedish 25 gagn\n",
      "swedish 26 uppfattning\n"
     ]
    },
    {
     "name": "stderr",
     "output_type": "stream",
     "text": [
      "/people/montariol/anaconda3/lib/python3.7/site-packages/numpy/core/fromnumeric.py:3373: RuntimeWarning: Mean of empty slice.\n",
      "  out=out, **kwargs)\n",
      "/people/montariol/anaconda3/lib/python3.7/site-packages/numpy/core/_methods.py:163: RuntimeWarning: invalid value encountered in true_divide\n",
      "  ret, rcount, out=ret, casting='unsafe', subok=False)\n",
      "/people/montariol/anaconda3/lib/python3.7/site-packages/ot/bregman.py:355: RuntimeWarning: divide by zero encountered in true_divide\n",
      "  Kp = (1 / a).reshape(-1, 1) * K\n"
     ]
    },
    {
     "name": "stdout",
     "output_type": "stream",
     "text": [
      "Warning: numerical errors at iteration 0\n",
      "Warning: numerical errors at iteration 0\n",
      "swedish 27 undertrycka\n",
      "swedish 28 uppläggning\n"
     ]
    },
    {
     "name": "stderr",
     "output_type": "stream",
     "text": [
      "/people/montariol/anaconda3/lib/python3.7/site-packages/numpy/core/fromnumeric.py:3373: RuntimeWarning: Mean of empty slice.\n",
      "  out=out, **kwargs)\n",
      "/people/montariol/anaconda3/lib/python3.7/site-packages/numpy/core/_methods.py:163: RuntimeWarning: invalid value encountered in true_divide\n",
      "  ret, rcount, out=ret, casting='unsafe', subok=False)\n",
      "/people/montariol/anaconda3/lib/python3.7/site-packages/ot/bregman.py:355: RuntimeWarning: divide by zero encountered in true_divide\n",
      "  Kp = (1 / a).reshape(-1, 1) * K\n"
     ]
    },
    {
     "name": "stdout",
     "output_type": "stream",
     "text": [
      "Warning: numerical errors at iteration 0\n",
      "Warning: numerical errors at iteration 0\n",
      "swedish 29 kokärt\n"
     ]
    },
    {
     "name": "stderr",
     "output_type": "stream",
     "text": [
      "/people/montariol/anaconda3/lib/python3.7/site-packages/numpy/core/fromnumeric.py:3373: RuntimeWarning: Mean of empty slice.\n",
      "  out=out, **kwargs)\n",
      "/people/montariol/anaconda3/lib/python3.7/site-packages/numpy/core/_methods.py:163: RuntimeWarning: invalid value encountered in true_divide\n",
      "  ret, rcount, out=ret, casting='unsafe', subok=False)\n",
      "/people/montariol/anaconda3/lib/python3.7/site-packages/ot/bregman.py:355: RuntimeWarning: divide by zero encountered in true_divide\n",
      "  Kp = (1 / a).reshape(-1, 1) * K\n"
     ]
    },
    {
     "name": "stdout",
     "output_type": "stream",
     "text": [
      "swedish 30 motiv\n",
      "latin 0 jus\n"
     ]
    },
    {
     "name": "stderr",
     "output_type": "stream",
     "text": [
      "/people/montariol/anaconda3/lib/python3.7/site-packages/numpy/core/fromnumeric.py:3373: RuntimeWarning: Mean of empty slice.\n",
      "  out=out, **kwargs)\n",
      "/people/montariol/anaconda3/lib/python3.7/site-packages/numpy/core/_methods.py:163: RuntimeWarning: invalid value encountered in true_divide\n",
      "  ret, rcount, out=ret, casting='unsafe', subok=False)\n",
      "/people/montariol/anaconda3/lib/python3.7/site-packages/ot/bregman.py:355: RuntimeWarning: divide by zero encountered in true_divide\n",
      "  Kp = (1 / a).reshape(-1, 1) * K\n"
     ]
    },
    {
     "name": "stdout",
     "output_type": "stream",
     "text": [
      "latin 1 hostis\n",
      "latin 2 oportet\n"
     ]
    },
    {
     "name": "stderr",
     "output_type": "stream",
     "text": [
      "/people/montariol/anaconda3/lib/python3.7/site-packages/numpy/core/fromnumeric.py:3373: RuntimeWarning: Mean of empty slice.\n",
      "  out=out, **kwargs)\n",
      "/people/montariol/anaconda3/lib/python3.7/site-packages/numpy/core/_methods.py:163: RuntimeWarning: invalid value encountered in true_divide\n",
      "  ret, rcount, out=ret, casting='unsafe', subok=False)\n",
      "/people/montariol/anaconda3/lib/python3.7/site-packages/ot/bregman.py:355: RuntimeWarning: divide by zero encountered in true_divide\n",
      "  Kp = (1 / a).reshape(-1, 1) * K\n"
     ]
    },
    {
     "name": "stdout",
     "output_type": "stream",
     "text": [
      "latin 3 virtus\n",
      "latin 4 consilium\n",
      "latin 5 dux\n",
      "latin 6 voluntas\n",
      "latin 7 honor\n",
      "latin 8 potestas\n",
      "latin 9 senatus\n",
      "latin 10 imperator\n",
      "latin 11 consul\n"
     ]
    },
    {
     "name": "stderr",
     "output_type": "stream",
     "text": [
      "/people/montariol/anaconda3/lib/python3.7/site-packages/numpy/core/fromnumeric.py:3373: RuntimeWarning: Mean of empty slice.\n",
      "  out=out, **kwargs)\n",
      "/people/montariol/anaconda3/lib/python3.7/site-packages/numpy/core/_methods.py:163: RuntimeWarning: invalid value encountered in true_divide\n",
      "  ret, rcount, out=ret, casting='unsafe', subok=False)\n",
      "/people/montariol/anaconda3/lib/python3.7/site-packages/ot/bregman.py:355: RuntimeWarning: divide by zero encountered in true_divide\n",
      "  Kp = (1 / a).reshape(-1, 1) * K\n"
     ]
    },
    {
     "name": "stdout",
     "output_type": "stream",
     "text": [
      "latin 12 dubius\n",
      "latin 13 necessarius\n",
      "latin 14 pontifex\n"
     ]
    },
    {
     "name": "stderr",
     "output_type": "stream",
     "text": [
      "/people/montariol/anaconda3/lib/python3.7/site-packages/numpy/core/fromnumeric.py:3373: RuntimeWarning: Mean of empty slice.\n",
      "  out=out, **kwargs)\n",
      "/people/montariol/anaconda3/lib/python3.7/site-packages/numpy/core/_methods.py:163: RuntimeWarning: invalid value encountered in true_divide\n",
      "  ret, rcount, out=ret, casting='unsafe', subok=False)\n",
      "/people/montariol/anaconda3/lib/python3.7/site-packages/ot/bregman.py:355: RuntimeWarning: divide by zero encountered in true_divide\n",
      "  Kp = (1 / a).reshape(-1, 1) * K\n"
     ]
    },
    {
     "name": "stdout",
     "output_type": "stream",
     "text": [
      "latin 15 credo\n",
      "latin 16 sensus\n",
      "latin 17 adsumo\n"
     ]
    },
    {
     "name": "stderr",
     "output_type": "stream",
     "text": [
      "/people/montariol/anaconda3/lib/python3.7/site-packages/numpy/core/fromnumeric.py:3373: RuntimeWarning: Mean of empty slice.\n",
      "  out=out, **kwargs)\n",
      "/people/montariol/anaconda3/lib/python3.7/site-packages/numpy/core/_methods.py:163: RuntimeWarning: invalid value encountered in true_divide\n",
      "  ret, rcount, out=ret, casting='unsafe', subok=False)\n",
      "/people/montariol/anaconda3/lib/python3.7/site-packages/ot/bregman.py:355: RuntimeWarning: divide by zero encountered in true_divide\n",
      "  Kp = (1 / a).reshape(-1, 1) * K\n"
     ]
    },
    {
     "name": "stdout",
     "output_type": "stream",
     "text": [
      "latin 18 civitas\n"
     ]
    },
    {
     "name": "stderr",
     "output_type": "stream",
     "text": [
      "/people/montariol/anaconda3/lib/python3.7/site-packages/numpy/core/fromnumeric.py:3373: RuntimeWarning: Mean of empty slice.\n",
      "  out=out, **kwargs)\n",
      "/people/montariol/anaconda3/lib/python3.7/site-packages/numpy/core/_methods.py:163: RuntimeWarning: invalid value encountered in true_divide\n",
      "  ret, rcount, out=ret, casting='unsafe', subok=False)\n",
      "/people/montariol/anaconda3/lib/python3.7/site-packages/ot/bregman.py:355: RuntimeWarning: divide by zero encountered in true_divide\n",
      "  Kp = (1 / a).reshape(-1, 1) * K\n"
     ]
    },
    {
     "name": "stdout",
     "output_type": "stream",
     "text": [
      "latin 19 salus\n",
      "latin 20 beatus\n"
     ]
    },
    {
     "name": "stderr",
     "output_type": "stream",
     "text": [
      "/people/montariol/anaconda3/lib/python3.7/site-packages/numpy/core/fromnumeric.py:3373: RuntimeWarning: Mean of empty slice.\n",
      "  out=out, **kwargs)\n",
      "/people/montariol/anaconda3/lib/python3.7/site-packages/numpy/core/_methods.py:163: RuntimeWarning: invalid value encountered in true_divide\n",
      "  ret, rcount, out=ret, casting='unsafe', subok=False)\n",
      "/people/montariol/anaconda3/lib/python3.7/site-packages/ot/bregman.py:355: RuntimeWarning: divide by zero encountered in true_divide\n",
      "  Kp = (1 / a).reshape(-1, 1) * K\n"
     ]
    },
    {
     "name": "stdout",
     "output_type": "stream",
     "text": [
      "latin 21 licet\n",
      "latin 22 templum\n",
      "latin 23 sapientia\n",
      "latin 24 cohors\n",
      "latin 25 sanctus\n"
     ]
    },
    {
     "name": "stderr",
     "output_type": "stream",
     "text": [
      "/people/montariol/anaconda3/lib/python3.7/site-packages/numpy/core/fromnumeric.py:3373: RuntimeWarning: Mean of empty slice.\n",
      "  out=out, **kwargs)\n",
      "/people/montariol/anaconda3/lib/python3.7/site-packages/numpy/core/_methods.py:163: RuntimeWarning: invalid value encountered in true_divide\n",
      "  ret, rcount, out=ret, casting='unsafe', subok=False)\n",
      "/people/montariol/anaconda3/lib/python3.7/site-packages/ot/bregman.py:355: RuntimeWarning: divide by zero encountered in true_divide\n",
      "  Kp = (1 / a).reshape(-1, 1) * K\n"
     ]
    },
    {
     "name": "stdout",
     "output_type": "stream",
     "text": [
      "latin 26 regnum\n",
      "latin 27 poena\n",
      "latin 28 ancilla\n"
     ]
    },
    {
     "name": "stderr",
     "output_type": "stream",
     "text": [
      "/people/montariol/anaconda3/lib/python3.7/site-packages/numpy/core/fromnumeric.py:3373: RuntimeWarning: Mean of empty slice.\n",
      "  out=out, **kwargs)\n",
      "/people/montariol/anaconda3/lib/python3.7/site-packages/numpy/core/_methods.py:163: RuntimeWarning: invalid value encountered in true_divide\n",
      "  ret, rcount, out=ret, casting='unsafe', subok=False)\n",
      "/people/montariol/anaconda3/lib/python3.7/site-packages/ot/bregman.py:355: RuntimeWarning: divide by zero encountered in true_divide\n",
      "  Kp = (1 / a).reshape(-1, 1) * K\n"
     ]
    },
    {
     "name": "stdout",
     "output_type": "stream",
     "text": [
      "latin 29 fidelis\n",
      "latin 30 nobilitas\n",
      "latin 31 simplex\n",
      "latin 32 humanitas\n",
      "latin 33 itero\n",
      "latin 34 acerbus\n",
      "latin 35 titulus\n"
     ]
    },
    {
     "name": "stderr",
     "output_type": "stream",
     "text": [
      "/people/montariol/anaconda3/lib/python3.7/site-packages/numpy/core/fromnumeric.py:3373: RuntimeWarning: Mean of empty slice.\n",
      "  out=out, **kwargs)\n",
      "/people/montariol/anaconda3/lib/python3.7/site-packages/numpy/core/_methods.py:163: RuntimeWarning: invalid value encountered in true_divide\n",
      "  ret, rcount, out=ret, casting='unsafe', subok=False)\n",
      "/people/montariol/anaconda3/lib/python3.7/site-packages/ot/bregman.py:355: RuntimeWarning: divide by zero encountered in true_divide\n",
      "  Kp = (1 / a).reshape(-1, 1) * K\n"
     ]
    },
    {
     "name": "stdout",
     "output_type": "stream",
     "text": [
      "latin 36 nepos\n",
      "latin 37 dolus\n",
      "latin 38 scriptura\n"
     ]
    },
    {
     "name": "stderr",
     "output_type": "stream",
     "text": [
      "/people/montariol/anaconda3/lib/python3.7/site-packages/numpy/core/fromnumeric.py:3373: RuntimeWarning: Mean of empty slice.\n",
      "  out=out, **kwargs)\n",
      "/people/montariol/anaconda3/lib/python3.7/site-packages/numpy/core/_methods.py:163: RuntimeWarning: invalid value encountered in true_divide\n",
      "  ret, rcount, out=ret, casting='unsafe', subok=False)\n",
      "/people/montariol/anaconda3/lib/python3.7/site-packages/ot/bregman.py:355: RuntimeWarning: divide by zero encountered in true_divide\n",
      "  Kp = (1 / a).reshape(-1, 1) * K\n"
     ]
    },
    {
     "name": "stdout",
     "output_type": "stream",
     "text": [
      "latin 39 sacramentum\n"
     ]
    },
    {
     "name": "stderr",
     "output_type": "stream",
     "text": [
      "/people/montariol/anaconda3/lib/python3.7/site-packages/numpy/core/fromnumeric.py:3373: RuntimeWarning: Mean of empty slice.\n",
      "  out=out, **kwargs)\n",
      "/people/montariol/anaconda3/lib/python3.7/site-packages/numpy/core/_methods.py:163: RuntimeWarning: invalid value encountered in true_divide\n",
      "  ret, rcount, out=ret, casting='unsafe', subok=False)\n",
      "/people/montariol/anaconda3/lib/python3.7/site-packages/ot/bregman.py:355: RuntimeWarning: divide by zero encountered in true_divide\n",
      "  Kp = (1 / a).reshape(-1, 1) * K\n"
     ]
    }
   ],
   "source": [
    "n_clusters = 7\n",
    "results_dict = collections.defaultdict(lambda: collections.defaultdict(list))\n",
    "\n",
    "\n",
    "for lang in emb_dict.keys():\n",
    "    emb_dict_lang, emb_counts = emb_dict[lang]\n",
    "    targets = list(emb_dict_lang.keys())\n",
    "    for i, word in enumerate(targets):\n",
    "        print(lang, i, word)\n",
    "        apd_cos, apd_canb, jsd, cos, wass, sinkhorn10, sinkhorn_1, indep_wass, indep_sinkhorn10, indep_sinkhorn_1, indep_wass_weighted, indep_sinkhorn10_weighted, indep_sinkhorn_1_weighted, full_wass, full_sinkhorn10, full_sinkhorn_1 = cluster_drift(word, emb_dict_lang, emb_counts, n_clusters)\n",
    "        results_dict[lang]['apd_cos'].append(apd_cos)\n",
    "        results_dict[lang]['apd_canb'].append(apd_canb)\n",
    "        results_dict[lang]['jsd'].append(jsd)\n",
    "        results_dict[lang]['cos'].append(cos)\n",
    "        results_dict[lang]['wass'].append(wass)\n",
    "        results_dict[lang]['sinkhorn10'].append(sinkhorn10)\n",
    "        results_dict[lang]['sinkhorn_1'].append(sinkhorn_1)\n",
    "        results_dict[lang]['indep_wass'].append(indep_wass)\n",
    "        results_dict[lang]['indep_sinkhorn10'].append(indep_sinkhorn10)\n",
    "        results_dict[lang]['indep_sinkhorn_1'].append(indep_sinkhorn_1)\n",
    "        results_dict[lang]['indep_wass_weighted'].append(indep_wass_weighted)\n",
    "        results_dict[lang]['indep_sinkhorn10_weighted'].append(indep_sinkhorn10_weighted)\n",
    "        results_dict[lang]['indep_sinkhorn_1_weighted'].append(indep_sinkhorn_1_weighted)\n",
    "        results_dict[lang]['full_wass'].append(full_wass)\n",
    "        results_dict[lang]['full_sinkhorn10'].append(full_sinkhorn10)\n",
    "        results_dict[lang]['full_sinkhorn_1'].append(full_sinkhorn_1)\n",
    "        results_dict[lang]['gold'].append(gold_dict[lang][word])       \n"
   ]
  },
  {
   "cell_type": "code",
   "execution_count": 80,
   "metadata": {
    "scrolled": true
   },
   "outputs": [
    {
     "name": "stdout",
     "output_type": "stream",
     "text": [
      "ENGLISH apd_cos 0.5042385520488138\n",
      "ENGLISH apd_canb 0.48289763049490214\n",
      "ENGLISH jsd 0.24020392815680622\n",
      "ENGLISH cos 0.31940245925687855\n",
      "ENGLISH wass 0.3776157508289377\n",
      "ENGLISH sinkhorn10 0.6153299048044543\n",
      "ENGLISH sinkhorn_1 0.2060584536705475\n",
      "ENGLISH indep_wass 0.3965854588768592\n",
      "ENGLISH indep_sinkhorn10 0.4858616473773899\n",
      "ENGLISH indep_sinkhorn_1 0.47376845849683996\n",
      "ENGLISH indep_wass_weighted 0.4004979611617431\n",
      "ENGLISH indep_sinkhorn10_weighted 0.4973620328814423\n",
      "ENGLISH indep_sinkhorn_1_weighted 0.46013398083739626\n",
      "ENGLISH full_wass 0.3857964374246039\n",
      "ENGLISH full_sinkhorn10 0.4064259949267185\n",
      "ENGLISH full_sinkhorn_1 0.3691979428826726\n",
      "ENGLISH gold 1.0\n",
      "GERMAN apd_cos 0.28669425286158623\n",
      "GERMAN apd_canb 0.47949205782201537\n",
      "GERMAN jsd 0.4751943640884166\n",
      "GERMAN cos 0.5629978791014337\n",
      "GERMAN wass 0.4989132814029615\n",
      "GERMAN sinkhorn10 0.4203579680951569\n",
      "GERMAN sinkhorn_1 0.41350341859599943\n",
      "GERMAN indep_wass 0.4672517908592342\n",
      "GERMAN indep_sinkhorn10 0.46077804966558544\n",
      "GERMAN indep_sinkhorn_1 0.4746503522234041\n",
      "GERMAN indep_wass_weighted 0.47285511306886285\n",
      "GERMAN indep_sinkhorn10_weighted 0.46393331848265795\n",
      "GERMAN indep_sinkhorn_1_weighted 0.46969984425179045\n",
      "GERMAN full_wass 0.4159514719885556\n",
      "GERMAN full_sinkhorn10 0.30731230254555986\n",
      "GERMAN full_sinkhorn_1 0.31188200221166484\n",
      "GERMAN gold 0.9999999999999999\n",
      "SWEDISH apd_cos 0.2187388041960069\n",
      "SWEDISH apd_canb 0.226023352716873\n",
      "SWEDISH jsd 0.073047833778685\n",
      "SWEDISH cos 0.27478935809267097\n",
      "SWEDISH wass 0.2664930667216846\n",
      "SWEDISH sinkhorn10 0.24990048397971185\n",
      "SWEDISH sinkhorn_1 0.07102434807844442\n",
      "SWEDISH indep_wass 0.29198898654471594\n",
      "SWEDISH indep_sinkhorn10 0.2565779867905058\n",
      "SWEDISH indep_sinkhorn_1 0.2628507924612516\n",
      "SWEDISH indep_wass_weighted 0.32476945488861336\n",
      "SWEDISH indep_sinkhorn10_weighted 0.2658860210116124\n",
      "SWEDISH indep_sinkhorn_1_weighted 0.27782458664303183\n",
      "SWEDISH full_wass 0.2521263182499765\n",
      "SWEDISH full_sinkhorn10 0.2642672324514199\n",
      "SWEDISH full_sinkhorn_1 0.2341172955178353\n",
      "SWEDISH gold 1.0\n",
      "LATIN apd_cos 0.3236549560293993\n",
      "LATIN apd_canb 0.3041418456369022\n",
      "LATIN jsd 0.3703738453345126\n",
      "LATIN cos 0.49505136317888115\n",
      "LATIN wass 0.45086542570356325\n",
      "LATIN sinkhorn10 0.4757258788478504\n",
      "LATIN sinkhorn_1 0.4584642811929491\n",
      "LATIN indep_wass 0.43050799803446765\n",
      "LATIN indep_sinkhorn10 0.4721609836799903\n",
      "LATIN indep_sinkhorn_1 0.47844645673911207\n",
      "LATIN indep_wass_weighted 0.4069609273204447\n",
      "LATIN indep_sinkhorn10_weighted 0.46775177123553185\n",
      "LATIN indep_sinkhorn_1_weighted 0.4555560772402212\n",
      "LATIN full_wass 0.28312772675267456\n",
      "LATIN full_sinkhorn10 0.2997326331924437\n",
      "LATIN full_sinkhorn_1 0.2748721800481565\n",
      "LATIN gold 1.0\n",
      "apd_cos 0.3333316412839516\n",
      "apd_canb 0.3731387216676732\n",
      "jsd 0.2897049928396051\n",
      "cos 0.4130602649074661\n",
      "wass 0.3984718811642868\n",
      "sinkhorn10 0.44032855893179335\n",
      "sinkhorn_1 0.2872626253844851\n",
      "indep_wass 0.3965835585788193\n",
      "indep_sinkhorn10 0.41884466687836786\n",
      "indep_sinkhorn_1 0.4224290149801519\n",
      "indep_wass_weighted 0.40127086410991597\n",
      "indep_sinkhorn10_weighted 0.4237332859028112\n",
      "indep_sinkhorn_1_weighted 0.4158036222431099\n",
      "full_wass 0.3342504886039526\n",
      "full_sinkhorn10 0.3194345407790355\n",
      "full_sinkhorn_1 0.2975173551650823\n",
      "gold 1.0\n"
     ]
    }
   ],
   "source": [
    "res_all = collections.defaultdict(list)\n",
    "for lang in emb_dict.keys():\n",
    "    for measure in results_dict[lang].keys():\n",
    "        corrs = spearmanr(results_dict[lang][measure], results_dict[lang]['gold'])\n",
    "        # corrp = pearsonr(results_dict[method][clustering][measure], gold_standard_vec)\n",
    "        print(lang.upper(), measure, corrs[0])\n",
    "        res_all[measure].append(corrs[0])\n",
    "for measure in res_all.keys():\n",
    "    print(measure, np.mean(res_all[measure]))"
   ]
  },
  {
   "cell_type": "code",
   "execution_count": 84,
   "metadata": {},
   "outputs": [
    {
     "name": "stdout",
     "output_type": "stream",
     "text": [
      "  & & & semeval-avg & english & german & swedish & latin  \\\\\n",
      " scalable & kmeans7 & apd-cos & 0.333 & 0.504 & 0.287 & 0.219  & 0.324\\\\\n",
      " scalable & kmeans7 & apd-canb & 0.373 & 0.483 & 0.479 & 0.226  & 0.304\\\\\n",
      " scalable & kmeans7 & jsd & 0.290 & 0.240 & 0.475 & 0.073  & 0.370\\\\\n",
      " scalable & kmeans7 & cos & 0.413 & 0.319 & 0.563 & 0.275  & 0.495\\\\\n",
      " scalable & kmeans7 & wass & 0.398 & 0.378 & 0.499 & 0.266  & 0.451\\\\\n",
      " scalable & kmeans7 & sinkhorn10 & 0.440 & 0.615 & 0.420 & 0.250  & 0.476\\\\\n",
      " scalable & kmeans7 & sinkhorn0.1 & 0.287 & 0.206 & 0.414 & 0.071  & 0.458\\\\\n",
      " scalable & kmeans7 & indep-wass & 0.397 & 0.397 & 0.467 & 0.292  & 0.431\\\\\n",
      " scalable & kmeans7 & indep-sinkhorn10 & 0.419 & 0.486 & 0.461 & 0.257  & 0.472\\\\\n",
      " scalable & kmeans7 & indep-sinkhorn0.1 & 0.422 & 0.474 & 0.475 & 0.263  & 0.478\\\\\n",
      " scalable & kmeans7 & indep-wass-weighted & 0.401 & 0.400 & 0.473 & 0.325  & 0.407\\\\\n",
      " scalable & kmeans7 & indep-sinkhorn10-weighted & 0.424 & 0.497 & 0.464 & 0.266  & 0.468\\\\\n",
      " scalable & kmeans7 & indep-sinkhorn0.1-weighted & 0.416 & 0.460 & 0.470 & 0.278  & 0.456\\\\\n",
      " scalable & kmeans7 & full-wass & 0.334 & 0.386 & 0.416 & 0.252  & 0.283\\\\\n",
      " scalable & kmeans7 & full-sinkhorn10 & 0.319 & 0.406 & 0.307 & 0.264  & 0.300\\\\\n",
      " scalable & kmeans7 & full-sinkhorn0.1 & 0.298 & 0.369 & 0.312 & 0.234  & 0.275\\\\\n",
      " scalable & kmeans7 & gold & 1.000 & 1.000 & 1.000 & 1.000  & 1.000\\\\\n"
     ]
    }
   ],
   "source": [
    "langs = list(emb_dict.keys())\n",
    "print(f\"  & & & semeval-avg & {langs[0]} & {langs[1]} & {langs[2]} & {langs[3]}  \\\\\\\\\")\n",
    "for measure in results_dict['english'].keys():\n",
    "    temp = measure.replace('_1', '0.1').replace('_', '-')\n",
    "    corrs = []\n",
    "    corrs.append(np.mean(res_all[measure]))\n",
    "    for lang in results_dict.keys():\n",
    "        corr = spearmanr(results_dict[lang][measure], results_dict[lang]['gold'])[0]\n",
    "        corrs.append(corr)\n",
    "        # corrp = pearsonr(results_dict[method][clustering][measure], gold_standard_vec) \n",
    "    print(f\" scalable & kmeans7 & {temp} & {corrs[0]:.3f} & {corrs[1]:.3f} & {corrs[2]:.3f} & {corrs[3]:.3f}  & {corrs[4]:.3f}\\\\\\\\\")\n"
   ]
  },
  {
   "cell_type": "code",
   "execution_count": null,
   "metadata": {},
   "outputs": [],
   "source": []
  }
 ],
 "metadata": {
  "kernelspec": {
   "display_name": "Python 3",
   "language": "python",
   "name": "python3"
  },
  "language_info": {
   "codemirror_mode": {
    "name": "ipython",
    "version": 3
   },
   "file_extension": ".py",
   "mimetype": "text/x-python",
   "name": "python",
   "nbconvert_exporter": "python",
   "pygments_lexer": "ipython3",
   "version": "3.7.3"
  }
 },
 "nbformat": 4,
 "nbformat_minor": 2
}
